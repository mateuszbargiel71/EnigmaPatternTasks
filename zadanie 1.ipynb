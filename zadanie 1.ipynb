{
 "cells": [
  {
   "cell_type": "code",
   "execution_count": 1,
   "metadata": {},
   "outputs": [],
   "source": [
    "import pandas as pd"
   ]
  },
  {
   "cell_type": "code",
   "execution_count": 2,
   "metadata": {},
   "outputs": [],
   "source": [
    "df = pd.read_csv('test.csv')"
   ]
  },
  {
   "cell_type": "code",
   "execution_count": 3,
   "metadata": {},
   "outputs": [
    {
     "name": "stdout",
     "output_type": "stream",
     "text": [
      "<class 'pandas.core.frame.DataFrame'>\n",
      "RangeIndex: 108 entries, 0 to 107\n",
      "Data columns (total 3 columns):\n",
      "imie              108 non-null object\n",
      "nazwisko          108 non-null object\n",
      "data_urodzenia    108 non-null object\n",
      "dtypes: object(3)\n",
      "memory usage: 2.7+ KB\n"
     ]
    }
   ],
   "source": [
    "df.info()"
   ]
  },
  {
   "cell_type": "code",
   "execution_count": 5,
   "metadata": {},
   "outputs": [],
   "source": [
    "df['data_urodzenia'] = pd.to_datetime(df['data_urodzenia'])"
   ]
  },
  {
   "cell_type": "code",
   "execution_count": 6,
   "metadata": {},
   "outputs": [
    {
     "name": "stdout",
     "output_type": "stream",
     "text": [
      "<class 'pandas.core.frame.DataFrame'>\n",
      "RangeIndex: 108 entries, 0 to 107\n",
      "Data columns (total 3 columns):\n",
      "imie              108 non-null object\n",
      "nazwisko          108 non-null object\n",
      "data_urodzenia    108 non-null datetime64[ns]\n",
      "dtypes: datetime64[ns](1), object(2)\n",
      "memory usage: 2.7+ KB\n"
     ]
    }
   ],
   "source": [
    "df.info()"
   ]
  },
  {
   "cell_type": "code",
   "execution_count": 8,
   "metadata": {},
   "outputs": [],
   "source": [
    "startdate = '1999-12-31'"
   ]
  },
  {
   "cell_type": "code",
   "execution_count": 9,
   "metadata": {},
   "outputs": [],
   "source": [
    "filtr = df['data_urodzenia']>startdate"
   ]
  },
  {
   "cell_type": "code",
   "execution_count": 10,
   "metadata": {},
   "outputs": [
    {
     "data": {
      "text/html": [
       "<div>\n",
       "<style scoped>\n",
       "    .dataframe tbody tr th:only-of-type {\n",
       "        vertical-align: middle;\n",
       "    }\n",
       "\n",
       "    .dataframe tbody tr th {\n",
       "        vertical-align: top;\n",
       "    }\n",
       "\n",
       "    .dataframe thead th {\n",
       "        text-align: right;\n",
       "    }\n",
       "</style>\n",
       "<table border=\"1\" class=\"dataframe\">\n",
       "  <thead>\n",
       "    <tr style=\"text-align: right;\">\n",
       "      <th></th>\n",
       "      <th>imie</th>\n",
       "      <th>nazwisko</th>\n",
       "      <th>data_urodzenia</th>\n",
       "    </tr>\n",
       "  </thead>\n",
       "  <tbody>\n",
       "    <tr>\n",
       "      <th>81</th>\n",
       "      <td>Krystyna</td>\n",
       "      <td>Polkowiak</td>\n",
       "      <td>2000-06-03</td>\n",
       "    </tr>\n",
       "    <tr>\n",
       "      <th>82</th>\n",
       "      <td>Wiktor</td>\n",
       "      <td>Proszak</td>\n",
       "      <td>2000-06-14</td>\n",
       "    </tr>\n",
       "    <tr>\n",
       "      <th>83</th>\n",
       "      <td>Andrzej</td>\n",
       "      <td>Robek</td>\n",
       "      <td>2000-09-22</td>\n",
       "    </tr>\n",
       "    <tr>\n",
       "      <th>84</th>\n",
       "      <td>Zbigniew</td>\n",
       "      <td>Rudak</td>\n",
       "      <td>2000-12-31</td>\n",
       "    </tr>\n",
       "    <tr>\n",
       "      <th>85</th>\n",
       "      <td>Barbara</td>\n",
       "      <td>Sadurski</td>\n",
       "      <td>2001-10-04</td>\n",
       "    </tr>\n",
       "    <tr>\n",
       "      <th>86</th>\n",
       "      <td>Marek</td>\n",
       "      <td>Sawek</td>\n",
       "      <td>2001-07-19</td>\n",
       "    </tr>\n",
       "    <tr>\n",
       "      <th>87</th>\n",
       "      <td>Robert</td>\n",
       "      <td>Sulik</td>\n",
       "      <td>2001-10-27</td>\n",
       "    </tr>\n",
       "    <tr>\n",
       "      <th>88</th>\n",
       "      <td>Zbigniew</td>\n",
       "      <td>Sulik</td>\n",
       "      <td>2002-04-02</td>\n",
       "    </tr>\n",
       "    <tr>\n",
       "      <th>89</th>\n",
       "      <td>Robert</td>\n",
       "      <td>Sulikowski</td>\n",
       "      <td>2002-05-15</td>\n",
       "    </tr>\n",
       "    <tr>\n",
       "      <th>90</th>\n",
       "      <td>Robert</td>\n",
       "      <td>Surma</td>\n",
       "      <td>2002-08-23</td>\n",
       "    </tr>\n",
       "    <tr>\n",
       "      <th>91</th>\n",
       "      <td>Robert</td>\n",
       "      <td>Surmak</td>\n",
       "      <td>2002-01-12</td>\n",
       "    </tr>\n",
       "    <tr>\n",
       "      <th>92</th>\n",
       "      <td>Wiktor</td>\n",
       "      <td>Suwald</td>\n",
       "      <td>2003-11-03</td>\n",
       "    </tr>\n",
       "    <tr>\n",
       "      <th>93</th>\n",
       "      <td>Michal</td>\n",
       "      <td>Szerka</td>\n",
       "      <td>2003-06-19</td>\n",
       "    </tr>\n",
       "    <tr>\n",
       "      <th>94</th>\n",
       "      <td>Tadeusz</td>\n",
       "      <td>Tomora</td>\n",
       "      <td>2003-09-27</td>\n",
       "    </tr>\n",
       "    <tr>\n",
       "      <th>95</th>\n",
       "      <td>Zbigniew</td>\n",
       "      <td>Trewirek</td>\n",
       "      <td>2004-05-01</td>\n",
       "    </tr>\n",
       "    <tr>\n",
       "      <th>96</th>\n",
       "      <td>Zbigniew</td>\n",
       "      <td>Twardzioch</td>\n",
       "      <td>2004-04-14</td>\n",
       "    </tr>\n",
       "    <tr>\n",
       "      <th>97</th>\n",
       "      <td>Andrzej</td>\n",
       "      <td>Twarnowski</td>\n",
       "      <td>2004-07-23</td>\n",
       "    </tr>\n",
       "    <tr>\n",
       "      <th>98</th>\n",
       "      <td>Tadeusz</td>\n",
       "      <td>Twomicki</td>\n",
       "      <td>2004-10-31</td>\n",
       "    </tr>\n",
       "    <tr>\n",
       "      <th>99</th>\n",
       "      <td>Michal</td>\n",
       "      <td>Wertyk</td>\n",
       "      <td>2005-08-02</td>\n",
       "    </tr>\n",
       "    <tr>\n",
       "      <th>100</th>\n",
       "      <td>Rafal</td>\n",
       "      <td>Wobek</td>\n",
       "      <td>2005-05-19</td>\n",
       "    </tr>\n",
       "    <tr>\n",
       "      <th>101</th>\n",
       "      <td>Tadeusz</td>\n",
       "      <td>Womor</td>\n",
       "      <td>2005-08-27</td>\n",
       "    </tr>\n",
       "    <tr>\n",
       "      <th>102</th>\n",
       "      <td>Robert</td>\n",
       "      <td>Wyszon</td>\n",
       "      <td>2005-05-12</td>\n",
       "    </tr>\n",
       "    <tr>\n",
       "      <th>103</th>\n",
       "      <td>Robert</td>\n",
       "      <td>Zamek</td>\n",
       "      <td>2006-03-15</td>\n",
       "    </tr>\n",
       "    <tr>\n",
       "      <th>104</th>\n",
       "      <td>Wiktor</td>\n",
       "      <td>Zamlcki</td>\n",
       "      <td>2006-06-23</td>\n",
       "    </tr>\n",
       "    <tr>\n",
       "      <th>105</th>\n",
       "      <td>Tadeusz</td>\n",
       "      <td>Zomornik</td>\n",
       "      <td>2006-01-10</td>\n",
       "    </tr>\n",
       "    <tr>\n",
       "      <th>106</th>\n",
       "      <td>Edward</td>\n",
       "      <td>Zeligowski</td>\n",
       "      <td>2007-09-01</td>\n",
       "    </tr>\n",
       "    <tr>\n",
       "      <th>107</th>\n",
       "      <td>Zbigniew</td>\n",
       "      <td>Zeligowski</td>\n",
       "      <td>2007-04-19</td>\n",
       "    </tr>\n",
       "  </tbody>\n",
       "</table>\n",
       "</div>"
      ],
      "text/plain": [
       "         imie    nazwisko data_urodzenia\n",
       "81   Krystyna   Polkowiak     2000-06-03\n",
       "82     Wiktor     Proszak     2000-06-14\n",
       "83    Andrzej       Robek     2000-09-22\n",
       "84   Zbigniew       Rudak     2000-12-31\n",
       "85    Barbara    Sadurski     2001-10-04\n",
       "86      Marek       Sawek     2001-07-19\n",
       "87     Robert       Sulik     2001-10-27\n",
       "88   Zbigniew       Sulik     2002-04-02\n",
       "89     Robert  Sulikowski     2002-05-15\n",
       "90     Robert       Surma     2002-08-23\n",
       "91     Robert      Surmak     2002-01-12\n",
       "92     Wiktor      Suwald     2003-11-03\n",
       "93     Michal      Szerka     2003-06-19\n",
       "94    Tadeusz      Tomora     2003-09-27\n",
       "95   Zbigniew    Trewirek     2004-05-01\n",
       "96   Zbigniew  Twardzioch     2004-04-14\n",
       "97    Andrzej  Twarnowski     2004-07-23\n",
       "98    Tadeusz    Twomicki     2004-10-31\n",
       "99     Michal      Wertyk     2005-08-02\n",
       "100     Rafal       Wobek     2005-05-19\n",
       "101   Tadeusz       Womor     2005-08-27\n",
       "102    Robert      Wyszon     2005-05-12\n",
       "103    Robert       Zamek     2006-03-15\n",
       "104    Wiktor     Zamlcki     2006-06-23\n",
       "105   Tadeusz    Zomornik     2006-01-10\n",
       "106    Edward  Zeligowski     2007-09-01\n",
       "107  Zbigniew  Zeligowski     2007-04-19"
      ]
     },
     "execution_count": 10,
     "metadata": {},
     "output_type": "execute_result"
    }
   ],
   "source": [
    "df.loc[filtr]"
   ]
  },
  {
   "cell_type": "code",
   "execution_count": 16,
   "metadata": {},
   "outputs": [],
   "source": [
    "#imiona zenskie\n",
    "maska = df['imie'].str[-1:]=='a'"
   ]
  },
  {
   "cell_type": "code",
   "execution_count": 20,
   "metadata": {},
   "outputs": [
    {
     "data": {
      "text/plain": [
       "0       Jadwiga\n",
       "8       Liliana\n",
       "9     Katarzyna\n",
       "19      Barbara\n",
       "21       Kalina\n",
       "22      Jolanta\n",
       "32      Pelagia\n",
       "68          Ewa\n",
       "76     Krystyna\n",
       "79       Elwira\n",
       "Name: imie, dtype: object"
      ]
     },
     "execution_count": 20,
     "metadata": {},
     "output_type": "execute_result"
    }
   ],
   "source": [
    "df.loc[maska, 'imie'].drop_duplicates()"
   ]
  },
  {
   "cell_type": "code",
   "execution_count": null,
   "metadata": {},
   "outputs": [],
   "source": []
  }
 ],
 "metadata": {
  "kernelspec": {
   "display_name": "Python 3",
   "language": "python",
   "name": "python3"
  },
  "language_info": {
   "codemirror_mode": {
    "name": "ipython",
    "version": 3
   },
   "file_extension": ".py",
   "mimetype": "text/x-python",
   "name": "python",
   "nbconvert_exporter": "python",
   "pygments_lexer": "ipython3",
   "version": "3.7.3"
  }
 },
 "nbformat": 4,
 "nbformat_minor": 2
}
