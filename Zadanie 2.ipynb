{
 "cells": [
  {
   "cell_type": "code",
   "execution_count": 77,
   "metadata": {},
   "outputs": [
    {
     "name": "stdout",
     "output_type": "stream",
     "text": [
      "0\n",
      "1\n",
      "2\n",
      "3\n",
      "4\n",
      "5\n",
      "6\n",
      "7\n",
      "8\n",
      "9\n",
      "['https://live.staticflickr.com/65535/48660331857_674cd557c6_c.jpg', 'https://live.staticflickr.com/65535/48660184181_e481ffd78b_c.jpg', 'https://live.staticflickr.com/65535/48660170681_d13f8854a8_c.jpg', 'https://live.staticflickr.com/65535/48660146266_f4f66e44b7_c.jpg', 'https://live.staticflickr.com/65535/48660145846_31a09bf21c_c.jpg', 'https://live.staticflickr.com/65535/48659794543_d145b2c189_c.jpg', 'https://live.staticflickr.com/65535/48659794038_3bda6f8d7a_c.jpg', 'https://live.staticflickr.com/65535/48659793588_8167fb885b_c.jpg', 'https://live.staticflickr.com/65535/48660143796_d977a9222d_c.jpg', 'https://live.staticflickr.com/65535/48660290847_5db1fedfe4_c.jpg']\n"
     ]
    }
   ],
   "source": [
    "import flickrapi\n",
    "import urllib\n",
    "from PIL import Image\n",
    "import pandas as pd\n",
    "\n",
    "# Flickr api access key \n",
    "flickr=flickrapi.FlickrAPI('6f4a234f762b12ce0114c468004d5c19', 'f31dc6e1e8b44908', cache=True)\n",
    "\n",
    "#keyword and no.of photos \n",
    "keyword = 'manhattan'\n",
    "no_photos = 10\n",
    "\n",
    "photos = flickr.walk(text='dog', tag_mode='all', tags='dog', extras='url_c')\n",
    "\n",
    "urls = []\n",
    "for i, photo in enumerate(photos):\n",
    "    print (i)\n",
    "    url = photo.get('url_c')\n",
    "    urls.append(url)\n",
    "    if i > no_photos-2 :\n",
    "        break\n",
    "        \n",
    "print (urls)\n",
    "df = pd.DataFrame(urls)"
   ]
  },
  {
   "cell_type": "code",
   "execution_count": 79,
   "metadata": {},
   "outputs": [
    {
     "data": {
      "text/html": [
       "<div>\n",
       "<style scoped>\n",
       "    .dataframe tbody tr th:only-of-type {\n",
       "        vertical-align: middle;\n",
       "    }\n",
       "\n",
       "    .dataframe tbody tr th {\n",
       "        vertical-align: top;\n",
       "    }\n",
       "\n",
       "    .dataframe thead th {\n",
       "        text-align: right;\n",
       "    }\n",
       "</style>\n",
       "<table border=\"1\" class=\"dataframe\">\n",
       "  <thead>\n",
       "    <tr style=\"text-align: right;\">\n",
       "      <th></th>\n",
       "      <th>URL</th>\n",
       "    </tr>\n",
       "  </thead>\n",
       "  <tbody>\n",
       "    <tr>\n",
       "      <th>0</th>\n",
       "      <td>https://live.staticflickr.com/65535/4866033185...</td>\n",
       "    </tr>\n",
       "    <tr>\n",
       "      <th>1</th>\n",
       "      <td>https://live.staticflickr.com/65535/4866018418...</td>\n",
       "    </tr>\n",
       "    <tr>\n",
       "      <th>2</th>\n",
       "      <td>https://live.staticflickr.com/65535/4866017068...</td>\n",
       "    </tr>\n",
       "    <tr>\n",
       "      <th>3</th>\n",
       "      <td>https://live.staticflickr.com/65535/4866014626...</td>\n",
       "    </tr>\n",
       "    <tr>\n",
       "      <th>4</th>\n",
       "      <td>https://live.staticflickr.com/65535/4866014584...</td>\n",
       "    </tr>\n",
       "  </tbody>\n",
       "</table>\n",
       "</div>"
      ],
      "text/plain": [
       "                                                 URL\n",
       "0  https://live.staticflickr.com/65535/4866033185...\n",
       "1  https://live.staticflickr.com/65535/4866018418...\n",
       "2  https://live.staticflickr.com/65535/4866017068...\n",
       "3  https://live.staticflickr.com/65535/4866014626...\n",
       "4  https://live.staticflickr.com/65535/4866014584..."
      ]
     },
     "execution_count": 79,
     "metadata": {},
     "output_type": "execute_result"
    }
   ],
   "source": [
    "df.columns = ['URL']\n",
    "df.head()"
   ]
  },
  {
   "cell_type": "code",
   "execution_count": 80,
   "metadata": {},
   "outputs": [],
   "source": [
    "file = df.to_csv(r'C:\\Users\\Mateusz\\plik.csv')"
   ]
  },
  {
   "cell_type": "code",
   "execution_count": 81,
   "metadata": {},
   "outputs": [],
   "source": [
    "import sqlite3\n",
    "conn = sqlite3.connect('Mateusz')\n",
    "c = conn.cursor()"
   ]
  },
  {
   "cell_type": "code",
   "execution_count": 82,
   "metadata": {},
   "outputs": [
    {
     "ename": "OperationalError",
     "evalue": "table URLS already exists",
     "output_type": "error",
     "traceback": [
      "\u001b[1;31m---------------------------------------------------------------------------\u001b[0m",
      "\u001b[1;31mOperationalError\u001b[0m                          Traceback (most recent call last)",
      "\u001b[1;32m<ipython-input-82-54483cb3e124>\u001b[0m in \u001b[0;36m<module>\u001b[1;34m\u001b[0m\n\u001b[1;32m----> 1\u001b[1;33m \u001b[0mc\u001b[0m\u001b[1;33m.\u001b[0m\u001b[0mexecute\u001b[0m\u001b[1;33m(\u001b[0m\u001b[1;34m'''CREATE TABLE URLS ([generated_id] INTEGER PRIMARY KEY,[URL] text)'''\u001b[0m\u001b[1;33m)\u001b[0m\u001b[1;33m\u001b[0m\u001b[1;33m\u001b[0m\u001b[0m\n\u001b[0m\u001b[0;32m      2\u001b[0m \u001b[0mconn\u001b[0m\u001b[1;33m.\u001b[0m\u001b[0mcommit\u001b[0m\u001b[1;33m(\u001b[0m\u001b[1;33m)\u001b[0m\u001b[1;33m\u001b[0m\u001b[1;33m\u001b[0m\u001b[0m\n",
      "\u001b[1;31mOperationalError\u001b[0m: table URLS already exists"
     ]
    }
   ],
   "source": [
    "c.execute('''CREATE TABLE URLS ([generated_id] INTEGER PRIMARY KEY,[URL] text)''')\n",
    "conn.commit()"
   ]
  },
  {
   "cell_type": "code",
   "execution_count": 83,
   "metadata": {},
   "outputs": [],
   "source": [
    "file2 = pd.read_csv(r'C:\\Users\\Mateusz\\plik.csv', index_col=0)\n",
    "file2.to_sql('URLS', conn, if_exists='replace', index = False)"
   ]
  },
  {
   "cell_type": "code",
   "execution_count": 90,
   "metadata": {},
   "outputs": [
    {
     "data": {
      "text/plain": [
       "<sqlite3.Cursor at 0x289c3743a40>"
      ]
     },
     "execution_count": 90,
     "metadata": {},
     "output_type": "execute_result"
    }
   ],
   "source": [
    "c.execute('''\n",
    "SELECT DISTINCT URL\n",
    "FROM URLS\n",
    "WHERE URL <> \"None\" ''')"
   ]
  },
  {
   "cell_type": "code",
   "execution_count": 91,
   "metadata": {},
   "outputs": [
    {
     "name": "stdout",
     "output_type": "stream",
     "text": [
      "[('https://live.staticflickr.com/65535/48660331857_674cd557c6_c.jpg',), ('https://live.staticflickr.com/65535/48660184181_e481ffd78b_c.jpg',), ('https://live.staticflickr.com/65535/48660170681_d13f8854a8_c.jpg',), ('https://live.staticflickr.com/65535/48660146266_f4f66e44b7_c.jpg',), ('https://live.staticflickr.com/65535/48660145846_31a09bf21c_c.jpg',), ('https://live.staticflickr.com/65535/48659794543_d145b2c189_c.jpg',), ('https://live.staticflickr.com/65535/48659794038_3bda6f8d7a_c.jpg',), ('https://live.staticflickr.com/65535/48659793588_8167fb885b_c.jpg',), ('https://live.staticflickr.com/65535/48660143796_d977a9222d_c.jpg',), ('https://live.staticflickr.com/65535/48660290847_5db1fedfe4_c.jpg',)]\n"
     ]
    }
   ],
   "source": [
    "print(c.fetchall())"
   ]
  },
  {
   "cell_type": "code",
   "execution_count": null,
   "metadata": {},
   "outputs": [],
   "source": []
  }
 ],
 "metadata": {
  "kernelspec": {
   "display_name": "Python 3",
   "language": "python",
   "name": "python3"
  },
  "language_info": {
   "codemirror_mode": {
    "name": "ipython",
    "version": 3
   },
   "file_extension": ".py",
   "mimetype": "text/x-python",
   "name": "python",
   "nbconvert_exporter": "python",
   "pygments_lexer": "ipython3",
   "version": "3.7.3"
  }
 },
 "nbformat": 4,
 "nbformat_minor": 2
}
